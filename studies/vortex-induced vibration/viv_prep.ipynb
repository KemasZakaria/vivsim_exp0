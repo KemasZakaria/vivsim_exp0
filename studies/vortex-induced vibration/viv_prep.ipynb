{
 "cells": [
  {
   "cell_type": "code",
   "execution_count": 2,
   "metadata": {},
   "outputs": [],
   "source": [
    "import math\n",
    "import jax.numpy as jnp\n",
    "import matplotlib.pyplot as plt"
   ]
  },
  {
   "cell_type": "markdown",
   "metadata": {},
   "source": [
    "## VIV parameters"
   ]
  },
  {
   "cell_type": "markdown",
   "metadata": {},
   "source": [
    "$\\mathrm{Re}=\\frac{UD}{\\nu}$"
   ]
  },
  {
   "cell_type": "markdown",
   "metadata": {},
   "source": [
    "$U_r=\\frac{U}{f_nD}$"
   ]
  },
  {
   "cell_type": "markdown",
   "metadata": {},
   "source": [
    "$m^*=\\frac{m}{\\frac{1}{4}\\rho\\pi D^2}$"
   ]
  },
  {
   "cell_type": "markdown",
   "metadata": {},
   "source": [
    "$\\zeta=\\frac{c}{2\\sqrt{mk}}$"
   ]
  },
  {
   "cell_type": "markdown",
   "metadata": {},
   "source": [
    "$\\omega_n=\\sqrt{\\frac{k}{m+m_a}}$"
   ]
  },
  {
   "cell_type": "markdown",
   "metadata": {},
   "source": [
    "$2\\pi f_n=\\omega_n$"
   ]
  },
  {
   "cell_type": "code",
   "execution_count": 3,
   "metadata": {},
   "outputs": [],
   "source": [
    "# dimensionless parameters\n",
    "UR = 5 # reduced velocity\n",
    "RE = 500  # Reynolds number\n",
    "MR = 10  # mass ratio\n",
    "ZETA = 0.00  # damping ratio\n",
    "\n",
    "# lattice parameters\n",
    "D = 20  # diameter *\n",
    "U = 0.1  # velocity *\n",
    "\n",
    "# derived parameters\n",
    "NU = U * D / RE  # kinematic viscosity * \n",
    "FN = U / (UR * D)  # natural frequency\n",
    "M = math.pi * (D / 2) ** 2 * MR # mass of the cylinder *\n",
    "K = (FN * 2 * math.pi) ** 2 * M * (1 + 1 / MR) # stiffness * \n",
    "C = 2 * math.sqrt(K * M) * ZETA  # damping * "
   ]
  },
  {
   "cell_type": "code",
   "execution_count": 4,
   "metadata": {},
   "outputs": [
    {
     "name": "stdout",
     "output_type": "stream",
     "text": [
      "Grid Reynolds number: 25\n",
      "Mach number:          0.173\n",
      "OMEGA:                1.953\n"
     ]
    }
   ],
   "source": [
    "TAU = 3 * NU + 0.5  # relaxation time\n",
    "OMEGA = 1 / TAU  # relaxation frequency\n",
    "RE_GRID = RE / D  # Reynolds number based on grid size\n",
    "MA = U * math.sqrt(3)\n",
    "\n",
    "print(f\"Grid Reynolds number: {RE_GRID:.0f}\")\n",
    "print(f\"Mach number:          {MA:.3f}\")\n",
    "print(f\"OMEGA:                {OMEGA:.3f}\")"
   ]
  },
  {
   "cell_type": "markdown",
   "metadata": {},
   "source": [
    "## Define the computational domain"
   ]
  },
  {
   "cell_type": "code",
   "execution_count": 5,
   "metadata": {},
   "outputs": [],
   "source": [
    "# Eulerian mesh\n",
    "NX = 20 * D  # number of grid points in x direction *\n",
    "NY = 10 * D  # number of grid points in y direction *\n",
    "\n",
    "# Lagrangian markers\n",
    "Y_CYLINDER = NY / 2  # y coordinate of the cylinder *\n",
    "X_CYLINDER = NY / 2  # x coordinate of the cylinder *\n",
    "N_MARKER = int(D * math.pi * 1)  # number of Lagrangian markers *\n",
    "\n",
    "# total time steps\n",
    "TM = int(50 / FN)  # total number of time steps * (50 natural periods)"
   ]
  }
 ],
 "metadata": {
  "kernelspec": {
   "display_name": "lbm",
   "language": "python",
   "name": "python3"
  },
  "language_info": {
   "codemirror_mode": {
    "name": "ipython",
    "version": 3
   },
   "file_extension": ".py",
   "mimetype": "text/x-python",
   "name": "python",
   "nbconvert_exporter": "python",
   "pygments_lexer": "ipython3",
   "version": "3.12.2"
  }
 },
 "nbformat": 4,
 "nbformat_minor": 2
}
